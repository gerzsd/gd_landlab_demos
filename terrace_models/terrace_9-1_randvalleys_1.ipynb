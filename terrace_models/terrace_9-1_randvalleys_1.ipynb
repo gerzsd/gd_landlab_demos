{
 "cells": [
  {
   "cell_type": "code",
   "execution_count": null,
   "id": "8579caa7-e3e6-4b07-aa18-0e32223d819a",
   "metadata": {},
   "outputs": [],
   "source": [
    "from copy import deepcopy\n",
    "\n",
    "# Data handling and plotting\n",
    "import numpy as np\n",
    "import matplotlib.pyplot as plt\n",
    "import pandas as pd\n",
    "\n",
    "# Landlab and terrainbento\n",
    "from landlab import RasterModelGrid, imshow_grid\n",
    "from landlab.components import NormalFault\n",
    "from landlab.values import constant, plane, sine, random\n",
    "from terrainbento import Basic, BasicRt, Clock\n",
    "from terrainbento.boundary_handlers import NotCoreNodeBaselevelHandler\n",
    "\n",
    "# Own local functions\n",
    "from output_writers import output_writer_1, print_model_local_time"
   ]
  },
  {
   "cell_type": "code",
   "execution_count": null,
   "id": "aaed3c2c-6bcc-4b40-99bf-18215f2c3493",
   "metadata": {},
   "outputs": [],
   "source": [
    "np.random.seed(103406)\n",
    "fields = [\n",
    "         'cumulative_elevation_change',\n",
    "         'drainage_area',\n",
    "         'flow__data_structure_delta',\n",
    "         'flow__link_to_receiver_node',\n",
    "         'flow__receiver_node',\n",
    "         'flow__sink_flag',\n",
    "         'flow__upstream_node_order',\n",
    "         'initial_topographic__elevation',\n",
    "         'rainfall__flux',\n",
    "         'surface_water__discharge',\n",
    "         'topographic__elevation',\n",
    "         'topographic__steepest_slope',\n",
    "         'water__unit_flux_in'\n",
    "         ]"
   ]
  },
  {
   "cell_type": "code",
   "execution_count": null,
   "id": "654c4665-66e9-4e2f-867d-1e9f24b2be0f",
   "metadata": {},
   "outputs": [],
   "source": [
    "# Set up the initial surface and boundary conditions\n",
    "rmg = RasterModelGrid(shape=(800, 800),\n",
    "                      xy_spacing=5,\n",
    "                      xy_axis_units=\"m\")\n",
    "\n",
    "data = pd.read_csv('times_rates_rapid_fix.txt', sep='\\t')\n",
    "\n",
    "# z = constant(rmg, 'topographic__elevation', value=267.5)\n",
    "# z = sine(rmg, 'topographic__elevation',\n",
    "#          amplitude=0.02,\n",
    "#          wavelength=500,\n",
    "#          a=1,\n",
    "#          b=0,\n",
    "#          point=(-250, 0))\n",
    "\n",
    "z = random(rmg, 'topographic__elevation', \n",
    "           distribution='normal')\n",
    "z *= 2\n",
    "rmg['node']['topographic__elevation'] += 267.5\n",
    "p = 1 - rmg.y_of_node / rmg.y_of_node.max()\n",
    "p *= 2\n",
    "rmg['node']['topographic__elevation'] += p"
   ]
  },
  {
   "cell_type": "code",
   "execution_count": null,
   "id": "6d643321-d1bb-41d1-8f54-d0575925bf99",
   "metadata": {},
   "outputs": [],
   "source": [
    "row_y_coords = np.unique(rmg.node_y)\n",
    "\n",
    "fault_trace = {'x1': rmg.node_x[0],\n",
    "               'x2': rmg.node_x[-1],\n",
    "               'y1': row_y_coords[719],\n",
    "               'y2': row_y_coords[719]}\n",
    "\n",
    "# NormalFault simulating base level drop for the topmost nodes.\n",
    "nf = NormalFault(grid=rmg,\n",
    "                 faulted_surface='topographic__elevation',\n",
    "                 fault_throw_rate_through_time={'rate': data['rate'],\n",
    "                                                'time': data['timestep']},\n",
    "                 fault_trace=fault_trace,\n",
    "                 include_boundaries=True)\n",
    "\n"
   ]
  },
  {
   "cell_type": "code",
   "execution_count": null,
   "id": "dde2c4b1-6be6-4d5f-bd59-8d15367ec11a",
   "metadata": {},
   "outputs": [],
   "source": [
    "# Close edge nodes, only leave top edge nodes open (core).\n",
    "rmg.set_status_at_node_on_edges(right=rmg.BC_NODE_IS_CLOSED,\n",
    "                                left=rmg.BC_NODE_IS_CLOSED,\n",
    "                                top=rmg.BC_NODE_IS_CORE,\n",
    "                                bottom=rmg.BC_NODE_IS_CLOSED,\n",
    "                                )"
   ]
  },
  {
   "cell_type": "code",
   "execution_count": null,
   "id": "97a97d3b-6a9e-4d40-a7fa-292ad1aa8705",
   "metadata": {},
   "outputs": [],
   "source": [
    "# Model setup\n",
    "clock = Clock(0, 10000, 2940000)\n",
    "model = Basic(clock,\n",
    "              grid=rmg,\n",
    "              boundary_handlers={'NormalFault': nf,\n",
    "                                 # 'NotCoreNodeBaselevelHandler': bh\n",
    "                                 },\n",
    "              water_erodibility=0.00001,\n",
    "              regolith_transport_parameter=0.01,\n",
    "              output_interval=20000,\n",
    "              fields=fields,\n",
    "              output_prefix=output_prefix,\n",
    "              output_writers={'function': [print_model_local_time]},\n",
    "              n_sp=1,\n",
    "              flow_director='FlowDirectorD8'\n",
    "              )\n",
    "model.run()"
   ]
  },
  {
   "cell_type": "code",
   "execution_count": null,
   "id": "459e9378-8e74-4f9c-abdd-021f253c3d47",
   "metadata": {},
   "outputs": [],
   "source": [
    "# Plots and data extraction from the model.\n",
    "profile_dist = rmg.y_of_node[rmg.x_of_node==10]\n",
    "initial_profile = rmg['node']['initial_topographic__elevation'][rmg.x_of_node==10]\n",
    "profile = rmg['node']['topographic__elevation'][rmg.x_of_node==10]\n",
    "cross_profile = rmg['node']['topographic__elevation'][rmg.y_of_node==1500]\n",
    "cross_profile_dist = rmg.x_of_node[rmg.y_of_node==1500]\n",
    "\n",
    "plt.figure('Profil')\n",
    "plt.title(\"Terrace evolution model profiles\")\n",
    "plt.plot(profile_dist, profile, label=\"Final\")\n",
    "plt.plot(profile_dist, initial_profile, label=\"Initial profile\")\n",
    "plt.xlabel('Distance from valley top [m]')\n",
    "plt.ylabel('Elevation [m]')\n",
    "plt.legend()\n",
    "plt.show()\n",
    "\n",
    "plt.figure('Topographic elevation')\n",
    "imshow_grid(model.grid, 'topographic__elevation', cmap='terrain')\n",
    "\n",
    "plt.figure('Initial topographic elevation')\n",
    "imshow_grid(model.grid, 'initial_topographic__elevation', cmap='terrain')\n",
    "\n",
    "output_writer_1(model)"
   ]
  },
  {
   "cell_type": "code",
   "execution_count": null,
   "id": "6fa34d65-557e-45f3-9557-4e7f981a2da2",
   "metadata": {},
   "outputs": [],
   "source": [
    "# Save stack of all netcdfs for Paraview to use.\n",
    "model.save_to_xarray_dataset(filename=output_prefix+\"_timed.nc\",\n",
    "                              time_unit=\"years\",\n",
    "                              reference_time=\"model start\",\n",
    "                              space_unit=\"meters\")"
   ]
  }
 ],
 "metadata": {
  "kernelspec": {
   "display_name": "Python 3 (ipykernel)",
   "language": "python",
   "name": "python3"
  },
  "language_info": {
   "codemirror_mode": {
    "name": "ipython",
    "version": 3
   },
   "file_extension": ".py",
   "mimetype": "text/x-python",
   "name": "python",
   "nbconvert_exporter": "python",
   "pygments_lexer": "ipython3",
   "version": "3.7.11"
  }
 },
 "nbformat": 4,
 "nbformat_minor": 5
}
